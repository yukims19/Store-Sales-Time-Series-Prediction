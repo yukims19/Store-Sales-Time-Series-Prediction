{
 "cells": [
  {
   "cell_type": "markdown",
   "id": "b5848922-7d6a-4ecc-a7f5-4796e750795d",
   "metadata": {},
   "source": [
    "# Store Sales"
   ]
  },
  {
   "cell_type": "markdown",
   "id": "afdd62cd-8448-4450-99bb-42d6d7140036",
   "metadata": {},
   "source": [
    "## Problem Statement"
   ]
  },
  {
   "cell_type": "markdown",
   "id": "efee8777-c421-45c3-be7b-d2147192abbf",
   "metadata": {},
   "source": [
    "Corporación Favorita, an Ecuadorian grocery retailer, faces challenges in accurately forecasting unit sales across its stores, leading to overstocking or understocking and resulting in increased food waste and decreased customer satisfaction. To address this, we will develop a machine learning model to predict daily unit sales at less than 0.5 RMSE by average. Utilizing historical sales data, store metadata, promotional information, oil prices, and holiday events, we aim to deliver a robust forecasting model within 4 weeks."
   ]
  },
  {
   "cell_type": "markdown",
   "id": "9f3ef7d3-4f86-475e-8beb-0b63c555787f",
   "metadata": {},
   "source": [
    "## Imports"
   ]
  },
  {
   "cell_type": "code",
   "execution_count": 175,
   "id": "0d504139-071b-4db5-a6a2-76199de71ae2",
   "metadata": {
    "tags": []
   },
   "outputs": [],
   "source": [
    "import warnings\n",
    "import pandas as pd\n",
    "import numpy as np\n",
    "import matplotlib.pyplot as plt\n",
    "import seaborn as sns\n",
    "\n",
    "from sklearn.preprocessing import LabelEncoder, StandardScaler"
   ]
  },
  {
   "cell_type": "code",
   "execution_count": 176,
   "id": "42c9d1bb-45f8-42e5-b9e3-74aa048fedda",
   "metadata": {
    "tags": []
   },
   "outputs": [
    {
     "name": "stderr",
     "output_type": "stream",
     "text": [
      "/var/folders/xk/5gx1tq55563djqn2f91dfp040000gn/T/ipykernel_31234/3076599388.py:1: DtypeWarning: Columns (12) have mixed types. Specify dtype option on import or set low_memory=False.\n",
      "  train = pd.read_csv('data/train_combined.csv')\n"
     ]
    }
   ],
   "source": [
    "train = pd.read_csv('data/train_combined.csv')\n",
    "test = pd.read_csv('data/test_combined.csv')"
   ]
  },
  {
   "cell_type": "code",
   "execution_count": 177,
   "id": "f956ff06-450f-4fcd-8b32-7f9cf4510f95",
   "metadata": {
    "tags": []
   },
   "outputs": [],
   "source": [
    "train['date'] = pd.to_datetime(train['date'])\n",
    "test['date'] = pd.to_datetime(test['date'])"
   ]
  },
  {
   "cell_type": "code",
   "execution_count": 178,
   "id": "8bfdcb9f-0dbb-4396-b9c7-426548dc73a4",
   "metadata": {
    "tags": []
   },
   "outputs": [
    {
     "name": "stdout",
     "output_type": "stream",
     "text": [
      "<class 'pandas.core.frame.DataFrame'>\n",
      "RangeIndex: 3054348 entries, 0 to 3054347\n",
      "Data columns (total 17 columns):\n",
      " #   Column               Dtype         \n",
      "---  ------               -----         \n",
      " 0   Unnamed: 0           int64         \n",
      " 1   id                   int64         \n",
      " 2   date                 datetime64[ns]\n",
      " 3   store_nbr            int64         \n",
      " 4   family               object        \n",
      " 5   sales                float64       \n",
      " 6   onpromotion          int64         \n",
      " 7   daily_oil_price      float64       \n",
      " 8   holiday_type         object        \n",
      " 9   holiday_locale       object        \n",
      " 10  locale_name          object        \n",
      " 11  holiday_description  object        \n",
      " 12  holiday_transferred  object        \n",
      " 13  city                 object        \n",
      " 14  state                object        \n",
      " 15  store_type           object        \n",
      " 16  store_cluster        int64         \n",
      "dtypes: datetime64[ns](1), float64(2), int64(5), object(9)\n",
      "memory usage: 396.1+ MB\n"
     ]
    }
   ],
   "source": [
    "train.info()"
   ]
  },
  {
   "cell_type": "code",
   "execution_count": 179,
   "id": "bad39927-b411-4edc-99fb-0c2d157473c1",
   "metadata": {
    "tags": []
   },
   "outputs": [
    {
     "name": "stdout",
     "output_type": "stream",
     "text": [
      "<class 'pandas.core.frame.DataFrame'>\n",
      "RangeIndex: 28512 entries, 0 to 28511\n",
      "Data columns (total 16 columns):\n",
      " #   Column               Non-Null Count  Dtype         \n",
      "---  ------               --------------  -----         \n",
      " 0   Unnamed: 0           28512 non-null  int64         \n",
      " 1   id                   28512 non-null  int64         \n",
      " 2   date                 28512 non-null  datetime64[ns]\n",
      " 3   store_nbr            28512 non-null  int64         \n",
      " 4   family               28512 non-null  object        \n",
      " 5   onpromotion          28512 non-null  int64         \n",
      " 6   daily_oil_price      28512 non-null  float64       \n",
      " 7   holiday_type         28512 non-null  object        \n",
      " 8   holiday_locale       28512 non-null  object        \n",
      " 9   locale_name          28512 non-null  object        \n",
      " 10  holiday_description  28512 non-null  object        \n",
      " 11  holiday_transferred  28512 non-null  object        \n",
      " 12  city                 28512 non-null  object        \n",
      " 13  state                28512 non-null  object        \n",
      " 14  store_type           28512 non-null  object        \n",
      " 15  store_cluster        28512 non-null  int64         \n",
      "dtypes: datetime64[ns](1), float64(1), int64(5), object(9)\n",
      "memory usage: 3.5+ MB\n"
     ]
    }
   ],
   "source": [
    "test.info()"
   ]
  },
  {
   "cell_type": "markdown",
   "id": "e900c1ca-6fb9-4d5c-9736-688e040e0b94",
   "metadata": {},
   "source": [
    "## Data Preprocessing"
   ]
  },
  {
   "cell_type": "code",
   "execution_count": 180,
   "id": "2c19344e-e0e7-4bc5-9bd0-252ca6c10a4f",
   "metadata": {
    "tags": []
   },
   "outputs": [],
   "source": [
    "# Add an indicator to distinguish between train and test\n",
    "train['dataset'] = 'train'\n",
    "test['dataset'] = 'test'\n",
    "\n",
    "# Combine the datasets\n",
    "combined = pd.concat([train, test], axis=0)"
   ]
  },
  {
   "cell_type": "markdown",
   "id": "9ea165a3-daae-449c-b185-b4bfaf6d9470",
   "metadata": {
    "tags": []
   },
   "source": [
    "### Check for missing and unexpected values "
   ]
  },
  {
   "cell_type": "code",
   "execution_count": 181,
   "id": "f44d273c-7780-40ed-9c3a-8ec49df68c20",
   "metadata": {
    "tags": []
   },
   "outputs": [
    {
     "data": {
      "text/plain": [
       "Unnamed: 0                 0\n",
       "id                         0\n",
       "date                       0\n",
       "store_nbr                  0\n",
       "family                     0\n",
       "sales                  28512\n",
       "onpromotion                0\n",
       "daily_oil_price            0\n",
       "holiday_type               0\n",
       "holiday_locale             0\n",
       "locale_name                0\n",
       "holiday_description        0\n",
       "holiday_transferred        0\n",
       "city                       0\n",
       "state                      0\n",
       "store_type                 0\n",
       "store_cluster              0\n",
       "dataset                    0\n",
       "dtype: int64"
      ]
     },
     "execution_count": 181,
     "metadata": {},
     "output_type": "execute_result"
    }
   ],
   "source": [
    "combined.isnull().sum()"
   ]
  },
  {
   "cell_type": "code",
   "execution_count": 182,
   "id": "40afb9e1-a407-47ae-bd76-24a66479dc33",
   "metadata": {
    "tags": []
   },
   "outputs": [],
   "source": [
    "# Drop holiday_description since will not use for modeling\n",
    "combined.drop(columns=['holiday_description'], inplace=True)"
   ]
  },
  {
   "cell_type": "code",
   "execution_count": 183,
   "id": "d4f42983-99dc-4cff-a04c-6d1991fee90e",
   "metadata": {
    "tags": []
   },
   "outputs": [],
   "source": [
    "categorical_columns = ['family', 'holiday_type', 'holiday_locale', 'locale_name', 'holiday_transferred', 'city', 'state', 'store_type', 'store_cluster']"
   ]
  },
  {
   "cell_type": "code",
   "execution_count": 184,
   "id": "30ebb4e8-3c6f-493e-abd3-54d71b141cc5",
   "metadata": {
    "tags": []
   },
   "outputs": [
    {
     "name": "stdout",
     "output_type": "stream",
     "text": [
      "family unique values:  ['AUTOMOTIVE' 'BABY CARE' 'BEAUTY' 'BEVERAGES' 'BOOKS' 'BREAD/BAKERY'\n",
      " 'CELEBRATION' 'CLEANING' 'DAIRY' 'DELI' 'EGGS' 'FROZEN FOODS' 'GROCERY I'\n",
      " 'GROCERY II' 'HARDWARE' 'HOME AND KITCHEN I' 'HOME AND KITCHEN II'\n",
      " 'HOME APPLIANCES' 'HOME CARE' 'LADIESWEAR' 'LAWN AND GARDEN' 'LINGERIE'\n",
      " 'LIQUOR,WINE,BEER' 'MAGAZINES' 'MEATS' 'PERSONAL CARE' 'PET SUPPLIES'\n",
      " 'PLAYERS AND ELECTRONICS' 'POULTRY' 'PREPARED FOODS' 'PRODUCE'\n",
      " 'SCHOOL AND OFFICE SUPPLIES' 'SEAFOOD']\n",
      "holiday_type unique values:  ['Holiday' 'none' 'Work Day' 'Additional' 'Event' 'Transfer' 'Bridge']\n",
      "holiday_locale unique values:  ['National' 'none' 'Local' 'Regional']\n",
      "locale_name unique values:  ['Ecuador' 'none' 'Manta' 'Cotopaxi' 'Cuenca' 'Libertad' 'Riobamba' 'Puyo'\n",
      " 'Guaranda' 'Imbabura' 'Machala' 'Latacunga' 'El Carmen' 'Santo Domingo'\n",
      " 'Cayambe' 'Guayaquil' 'Esmeraldas' 'Ambato' 'Ibarra' 'Quevedo'\n",
      " 'Santo Domingo de los Tsachilas' 'Santa Elena' 'Quito' 'Loja' 'Salinas']\n",
      "holiday_transferred unique values:  ['False' 'none' 'True' False]\n",
      "city unique values:  ['Quito' 'Cayambe' 'Latacunga' 'Riobamba' 'Ibarra' 'Santo Domingo'\n",
      " 'Guaranda' 'Puyo' 'Ambato' 'Guayaquil' 'Salinas' 'Daule' 'Babahoyo'\n",
      " 'Quevedo' 'Playas' 'Libertad' 'Cuenca' 'Loja' 'Machala' 'Esmeraldas'\n",
      " 'Manta' 'El Carmen']\n",
      "state unique values:  ['Pichincha' 'Cotopaxi' 'Chimborazo' 'Imbabura'\n",
      " 'Santo Domingo de los Tsachilas' 'Bolivar' 'Pastaza' 'Tungurahua'\n",
      " 'Guayas' 'Santa Elena' 'Los Rios' 'Azuay' 'Loja' 'El Oro' 'Esmeraldas'\n",
      " 'Manabi']\n",
      "store_type unique values:  ['D' 'C' 'B' 'E' 'A']\n",
      "store_cluster unique values:  [13 15  6  7  3 12 16  9  1 10  8  2  4  5 11 14 17]\n"
     ]
    }
   ],
   "source": [
    "# Check unique values\n",
    "for col in categorical_columns:\n",
    "    print(f\"{col} unique values: \", combined[col].unique())"
   ]
  },
  {
   "cell_type": "code",
   "execution_count": 185,
   "id": "780b6ffe-686b-4246-ad8e-ea3054474858",
   "metadata": {
    "tags": []
   },
   "outputs": [
    {
     "name": "stderr",
     "output_type": "stream",
     "text": [
      "/var/folders/xk/5gx1tq55563djqn2f91dfp040000gn/T/ipykernel_31234/3342495674.py:1: FutureWarning: A value is trying to be set on a copy of a DataFrame or Series through chained assignment using an inplace method.\n",
      "The behavior will change in pandas 3.0. This inplace method will never work because the intermediate object on which we are setting values always behaves as a copy.\n",
      "\n",
      "For example, when doing 'df[col].method(value, inplace=True)', try using 'df.method({col: value}, inplace=True)' or df[col] = df[col].method(value) instead, to perform the operation inplace on the original object.\n",
      "\n",
      "\n",
      "  combined['holiday_transferred'].replace({False: 'False'}, inplace=True)\n"
     ]
    }
   ],
   "source": [
    "combined['holiday_transferred'].replace({False: 'False'}, inplace=True)"
   ]
  },
  {
   "cell_type": "code",
   "execution_count": 186,
   "id": "ee7fb8ae-6e47-48bf-a3a9-d2f8a9ef82ae",
   "metadata": {
    "tags": []
   },
   "outputs": [
    {
     "data": {
      "text/plain": [
       "array(['False', 'none', 'True'], dtype=object)"
      ]
     },
     "execution_count": 186,
     "metadata": {},
     "output_type": "execute_result"
    }
   ],
   "source": [
    "combined['holiday_transferred'].unique()"
   ]
  },
  {
   "cell_type": "markdown",
   "id": "f738b5e1-40d5-4dac-b911-9695cf02ca24",
   "metadata": {
    "tags": []
   },
   "source": [
    "### Feature Enegineering"
   ]
  },
  {
   "cell_type": "code",
   "execution_count": 187,
   "id": "eafaca92-2c06-4a2a-b41e-d07070ce666b",
   "metadata": {
    "tags": []
   },
   "outputs": [],
   "source": [
    "# Date-based features\n",
    "combined['day_of_week'] = combined['date'].dt.dayofweek\n",
    "combined['month'] = combined['date'].dt.month\n",
    "combined['quarter'] = combined['date'].dt.quarter"
   ]
  },
  {
   "cell_type": "code",
   "execution_count": 188,
   "id": "65a0d6cd-af72-416d-8c6b-c33661e45a3f",
   "metadata": {
    "tags": []
   },
   "outputs": [
    {
     "data": {
      "text/html": [
       "<div>\n",
       "<style scoped>\n",
       "    .dataframe tbody tr th:only-of-type {\n",
       "        vertical-align: middle;\n",
       "    }\n",
       "\n",
       "    .dataframe tbody tr th {\n",
       "        vertical-align: top;\n",
       "    }\n",
       "\n",
       "    .dataframe thead th {\n",
       "        text-align: right;\n",
       "    }\n",
       "</style>\n",
       "<table border=\"1\" class=\"dataframe\">\n",
       "  <thead>\n",
       "    <tr style=\"text-align: right;\">\n",
       "      <th></th>\n",
       "      <th>Unnamed: 0</th>\n",
       "      <th>id</th>\n",
       "      <th>date</th>\n",
       "      <th>store_nbr</th>\n",
       "      <th>family</th>\n",
       "      <th>sales</th>\n",
       "      <th>onpromotion</th>\n",
       "      <th>daily_oil_price</th>\n",
       "      <th>holiday_type</th>\n",
       "      <th>holiday_locale</th>\n",
       "      <th>locale_name</th>\n",
       "      <th>holiday_transferred</th>\n",
       "      <th>city</th>\n",
       "      <th>state</th>\n",
       "      <th>store_type</th>\n",
       "      <th>store_cluster</th>\n",
       "      <th>dataset</th>\n",
       "      <th>day_of_week</th>\n",
       "      <th>month</th>\n",
       "      <th>quarter</th>\n",
       "    </tr>\n",
       "  </thead>\n",
       "  <tbody>\n",
       "    <tr>\n",
       "      <th>0</th>\n",
       "      <td>0</td>\n",
       "      <td>0</td>\n",
       "      <td>2013-01-01</td>\n",
       "      <td>1</td>\n",
       "      <td>AUTOMOTIVE</td>\n",
       "      <td>0.0</td>\n",
       "      <td>0</td>\n",
       "      <td>93.14</td>\n",
       "      <td>Holiday</td>\n",
       "      <td>National</td>\n",
       "      <td>Ecuador</td>\n",
       "      <td>False</td>\n",
       "      <td>Quito</td>\n",
       "      <td>Pichincha</td>\n",
       "      <td>D</td>\n",
       "      <td>13</td>\n",
       "      <td>train</td>\n",
       "      <td>1</td>\n",
       "      <td>1</td>\n",
       "      <td>1</td>\n",
       "    </tr>\n",
       "    <tr>\n",
       "      <th>1</th>\n",
       "      <td>1</td>\n",
       "      <td>1</td>\n",
       "      <td>2013-01-01</td>\n",
       "      <td>1</td>\n",
       "      <td>BABY CARE</td>\n",
       "      <td>0.0</td>\n",
       "      <td>0</td>\n",
       "      <td>93.14</td>\n",
       "      <td>Holiday</td>\n",
       "      <td>National</td>\n",
       "      <td>Ecuador</td>\n",
       "      <td>False</td>\n",
       "      <td>Quito</td>\n",
       "      <td>Pichincha</td>\n",
       "      <td>D</td>\n",
       "      <td>13</td>\n",
       "      <td>train</td>\n",
       "      <td>1</td>\n",
       "      <td>1</td>\n",
       "      <td>1</td>\n",
       "    </tr>\n",
       "    <tr>\n",
       "      <th>2</th>\n",
       "      <td>2</td>\n",
       "      <td>2</td>\n",
       "      <td>2013-01-01</td>\n",
       "      <td>1</td>\n",
       "      <td>BEAUTY</td>\n",
       "      <td>0.0</td>\n",
       "      <td>0</td>\n",
       "      <td>93.14</td>\n",
       "      <td>Holiday</td>\n",
       "      <td>National</td>\n",
       "      <td>Ecuador</td>\n",
       "      <td>False</td>\n",
       "      <td>Quito</td>\n",
       "      <td>Pichincha</td>\n",
       "      <td>D</td>\n",
       "      <td>13</td>\n",
       "      <td>train</td>\n",
       "      <td>1</td>\n",
       "      <td>1</td>\n",
       "      <td>1</td>\n",
       "    </tr>\n",
       "    <tr>\n",
       "      <th>3</th>\n",
       "      <td>3</td>\n",
       "      <td>3</td>\n",
       "      <td>2013-01-01</td>\n",
       "      <td>1</td>\n",
       "      <td>BEVERAGES</td>\n",
       "      <td>0.0</td>\n",
       "      <td>0</td>\n",
       "      <td>93.14</td>\n",
       "      <td>Holiday</td>\n",
       "      <td>National</td>\n",
       "      <td>Ecuador</td>\n",
       "      <td>False</td>\n",
       "      <td>Quito</td>\n",
       "      <td>Pichincha</td>\n",
       "      <td>D</td>\n",
       "      <td>13</td>\n",
       "      <td>train</td>\n",
       "      <td>1</td>\n",
       "      <td>1</td>\n",
       "      <td>1</td>\n",
       "    </tr>\n",
       "    <tr>\n",
       "      <th>4</th>\n",
       "      <td>4</td>\n",
       "      <td>4</td>\n",
       "      <td>2013-01-01</td>\n",
       "      <td>1</td>\n",
       "      <td>BOOKS</td>\n",
       "      <td>0.0</td>\n",
       "      <td>0</td>\n",
       "      <td>93.14</td>\n",
       "      <td>Holiday</td>\n",
       "      <td>National</td>\n",
       "      <td>Ecuador</td>\n",
       "      <td>False</td>\n",
       "      <td>Quito</td>\n",
       "      <td>Pichincha</td>\n",
       "      <td>D</td>\n",
       "      <td>13</td>\n",
       "      <td>train</td>\n",
       "      <td>1</td>\n",
       "      <td>1</td>\n",
       "      <td>1</td>\n",
       "    </tr>\n",
       "  </tbody>\n",
       "</table>\n",
       "</div>"
      ],
      "text/plain": [
       "   Unnamed: 0  id       date  store_nbr      family  sales  onpromotion  \\\n",
       "0           0   0 2013-01-01          1  AUTOMOTIVE    0.0            0   \n",
       "1           1   1 2013-01-01          1   BABY CARE    0.0            0   \n",
       "2           2   2 2013-01-01          1      BEAUTY    0.0            0   \n",
       "3           3   3 2013-01-01          1   BEVERAGES    0.0            0   \n",
       "4           4   4 2013-01-01          1       BOOKS    0.0            0   \n",
       "\n",
       "   daily_oil_price holiday_type holiday_locale locale_name  \\\n",
       "0            93.14      Holiday       National     Ecuador   \n",
       "1            93.14      Holiday       National     Ecuador   \n",
       "2            93.14      Holiday       National     Ecuador   \n",
       "3            93.14      Holiday       National     Ecuador   \n",
       "4            93.14      Holiday       National     Ecuador   \n",
       "\n",
       "  holiday_transferred   city      state store_type  store_cluster dataset  \\\n",
       "0               False  Quito  Pichincha          D             13   train   \n",
       "1               False  Quito  Pichincha          D             13   train   \n",
       "2               False  Quito  Pichincha          D             13   train   \n",
       "3               False  Quito  Pichincha          D             13   train   \n",
       "4               False  Quito  Pichincha          D             13   train   \n",
       "\n",
       "   day_of_week  month  quarter  \n",
       "0            1      1        1  \n",
       "1            1      1        1  \n",
       "2            1      1        1  \n",
       "3            1      1        1  \n",
       "4            1      1        1  "
      ]
     },
     "execution_count": 188,
     "metadata": {},
     "output_type": "execute_result"
    }
   ],
   "source": [
    "combined.head()"
   ]
  },
  {
   "cell_type": "markdown",
   "id": "1cf15e74-baf6-473f-b488-1437c98183d6",
   "metadata": {},
   "source": [
    "### Encoding variables"
   ]
  },
  {
   "cell_type": "code",
   "execution_count": 189,
   "id": "0d66a605-edfd-4b9b-b5d2-6af553004293",
   "metadata": {
    "tags": []
   },
   "outputs": [
    {
     "data": {
      "text/plain": [
       "['family',\n",
       " 'holiday_type',\n",
       " 'holiday_locale',\n",
       " 'locale_name',\n",
       " 'holiday_transferred',\n",
       " 'city',\n",
       " 'state',\n",
       " 'store_type',\n",
       " 'store_cluster']"
      ]
     },
     "execution_count": 189,
     "metadata": {},
     "output_type": "execute_result"
    }
   ],
   "source": [
    "categorical_columns"
   ]
  },
  {
   "cell_type": "code",
   "execution_count": 190,
   "id": "265e6d30-a1d6-40cd-8049-e6eebe4f7172",
   "metadata": {
    "tags": []
   },
   "outputs": [
    {
     "name": "stdout",
     "output_type": "stream",
     "text": [
      "['Unnamed: 0', 'id', 'date', 'store_nbr', 'sales', 'onpromotion', 'daily_oil_price', 'dataset', 'day_of_week', 'month', 'quarter', 'family_BABY CARE', 'family_BEAUTY', 'family_BEVERAGES', 'family_BOOKS', 'family_BREAD/BAKERY', 'family_CELEBRATION', 'family_CLEANING', 'family_DAIRY', 'family_DELI', 'family_EGGS', 'family_FROZEN FOODS', 'family_GROCERY I', 'family_GROCERY II', 'family_HARDWARE', 'family_HOME AND KITCHEN I', 'family_HOME AND KITCHEN II', 'family_HOME APPLIANCES', 'family_HOME CARE', 'family_LADIESWEAR', 'family_LAWN AND GARDEN', 'family_LINGERIE', 'family_LIQUOR,WINE,BEER', 'family_MAGAZINES', 'family_MEATS', 'family_PERSONAL CARE', 'family_PET SUPPLIES', 'family_PLAYERS AND ELECTRONICS', 'family_POULTRY', 'family_PREPARED FOODS', 'family_PRODUCE', 'family_SCHOOL AND OFFICE SUPPLIES', 'family_SEAFOOD', 'holiday_type_Bridge', 'holiday_type_Event', 'holiday_type_Holiday', 'holiday_type_Transfer', 'holiday_type_Work Day', 'holiday_type_none', 'holiday_locale_National', 'holiday_locale_Regional', 'holiday_locale_none', 'locale_name_Cayambe', 'locale_name_Cotopaxi', 'locale_name_Cuenca', 'locale_name_Ecuador', 'locale_name_El Carmen', 'locale_name_Esmeraldas', 'locale_name_Guaranda', 'locale_name_Guayaquil', 'locale_name_Ibarra', 'locale_name_Imbabura', 'locale_name_Latacunga', 'locale_name_Libertad', 'locale_name_Loja', 'locale_name_Machala', 'locale_name_Manta', 'locale_name_Puyo', 'locale_name_Quevedo', 'locale_name_Quito', 'locale_name_Riobamba', 'locale_name_Salinas', 'locale_name_Santa Elena', 'locale_name_Santo Domingo', 'locale_name_Santo Domingo de los Tsachilas', 'locale_name_none', 'holiday_transferred_True', 'holiday_transferred_none', 'city_Babahoyo', 'city_Cayambe', 'city_Cuenca', 'city_Daule', 'city_El Carmen', 'city_Esmeraldas', 'city_Guaranda', 'city_Guayaquil', 'city_Ibarra', 'city_Latacunga', 'city_Libertad', 'city_Loja', 'city_Machala', 'city_Manta', 'city_Playas', 'city_Puyo', 'city_Quevedo', 'city_Quito', 'city_Riobamba', 'city_Salinas', 'city_Santo Domingo', 'state_Bolivar', 'state_Chimborazo', 'state_Cotopaxi', 'state_El Oro', 'state_Esmeraldas', 'state_Guayas', 'state_Imbabura', 'state_Loja', 'state_Los Rios', 'state_Manabi', 'state_Pastaza', 'state_Pichincha', 'state_Santa Elena', 'state_Santo Domingo de los Tsachilas', 'state_Tungurahua', 'store_type_B', 'store_type_C', 'store_type_D', 'store_type_E', 'store_cluster_2', 'store_cluster_3', 'store_cluster_4', 'store_cluster_5', 'store_cluster_6', 'store_cluster_7', 'store_cluster_8', 'store_cluster_9', 'store_cluster_10', 'store_cluster_11', 'store_cluster_12', 'store_cluster_13', 'store_cluster_14', 'store_cluster_15', 'store_cluster_16', 'store_cluster_17']\n"
     ]
    }
   ],
   "source": [
    "combined = pd.get_dummies(combined, columns=categorical_columns, drop_first=True)\n",
    "print(list(combined.columns))"
   ]
  },
  {
   "cell_type": "markdown",
   "id": "b0162015-e867-4b01-acea-9db6209acfb6",
   "metadata": {},
   "source": [
    "### Split back into train and test"
   ]
  },
  {
   "cell_type": "code",
   "execution_count": 191,
   "id": "d8165c08-6074-4ce6-98e7-35918f0da6ce",
   "metadata": {
    "tags": []
   },
   "outputs": [],
   "source": [
    "train_processed = combined[combined['dataset'] == 'train'].drop(columns=['dataset'])\n",
    "test_processed = combined[combined['dataset'] == 'test'].drop(columns=['dataset'])"
   ]
  },
  {
   "cell_type": "markdown",
   "id": "63535671-7417-4adb-8647-6adff60fc2ef",
   "metadata": {},
   "source": [
    "## Modeling"
   ]
  },
  {
   "cell_type": "code",
   "execution_count": null,
   "id": "d2fd9931-3181-4c9f-8293-4e109ae5e9ec",
   "metadata": {},
   "outputs": [],
   "source": []
  },
  {
   "cell_type": "code",
   "execution_count": null,
   "id": "4c0eee0d-7cf9-4adf-95e1-501ea3e8c6f7",
   "metadata": {},
   "outputs": [],
   "source": []
  }
 ],
 "metadata": {
  "kernelspec": {
   "display_name": "Python 3 (ipykernel)",
   "language": "python",
   "name": "python3"
  },
  "language_info": {
   "codemirror_mode": {
    "name": "ipython",
    "version": 3
   },
   "file_extension": ".py",
   "mimetype": "text/x-python",
   "name": "python",
   "nbconvert_exporter": "python",
   "pygments_lexer": "ipython3",
   "version": "3.11.2"
  }
 },
 "nbformat": 4,
 "nbformat_minor": 5
}
